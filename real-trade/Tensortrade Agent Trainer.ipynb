{
 "cells": [
  {
   "cell_type": "code",
   "execution_count": 1,
   "metadata": {},
   "outputs": [
    {
     "data": {
      "text/plain": [
       "True"
      ]
     },
     "execution_count": 1,
     "metadata": {},
     "output_type": "execute_result"
    }
   ],
   "source": [
    "%matplotlib inline\n",
    "%load_ext autoreload\n",
    "\n",
    "%autoreload 2\n",
    "import tensorflow as tf\n",
    "tf.enable_eager_execution()\n",
    "tf.executing_eagerly()"
   ]
  },
  {
   "cell_type": "code",
   "execution_count": 2,
   "metadata": {},
   "outputs": [
    {
     "name": "stdout",
     "output_type": "stream",
     "text": [
      "Processing /Users/qinghuan/deep-rl-trade\n",
      "Requirement already satisfied, skipping upgrade: numpy==1.16.4 in /usr/local/lib/python3.7/site-packages (from tensortrade==0.0.2rc0) (1.16.4)\n",
      "Requirement already satisfied, skipping upgrade: pandas==0.25.0 in /usr/local/lib/python3.7/site-packages (from tensortrade==0.0.2rc0) (0.25.0)\n",
      "Requirement already satisfied, skipping upgrade: gym==0.14.0 in /usr/local/lib/python3.7/site-packages (from tensortrade==0.0.2rc0) (0.14.0)\n",
      "Requirement already satisfied, skipping upgrade: pyyaml==5.1.2 in /usr/local/lib/python3.7/site-packages (from tensortrade==0.0.2rc0) (5.1.2)\n",
      "Requirement already satisfied, skipping upgrade: python-dateutil>=2.6.1 in /usr/local/lib/python3.7/site-packages (from pandas==0.25.0->tensortrade==0.0.2rc0) (2.8.0)\n",
      "Requirement already satisfied, skipping upgrade: pytz>=2017.2 in /usr/local/lib/python3.7/site-packages (from pandas==0.25.0->tensortrade==0.0.2rc0) (2019.3)\n",
      "Requirement already satisfied, skipping upgrade: six in /usr/local/lib/python3.7/site-packages (from gym==0.14.0->tensortrade==0.0.2rc0) (1.12.0)\n",
      "Requirement already satisfied, skipping upgrade: pyglet<=1.3.2,>=1.2.0 in /usr/local/lib/python3.7/site-packages (from gym==0.14.0->tensortrade==0.0.2rc0) (1.3.2)\n",
      "Requirement already satisfied, skipping upgrade: cloudpickle~=1.2.0 in /usr/local/lib/python3.7/site-packages (from gym==0.14.0->tensortrade==0.0.2rc0) (1.2.2)\n",
      "Requirement already satisfied, skipping upgrade: scipy in /usr/local/lib/python3.7/site-packages (from gym==0.14.0->tensortrade==0.0.2rc0) (1.3.1)\n",
      "Requirement already satisfied, skipping upgrade: future in /usr/local/lib/python3.7/site-packages (from pyglet<=1.3.2,>=1.2.0->gym==0.14.0->tensortrade==0.0.2rc0) (0.18.2)\n",
      "Building wheels for collected packages: tensortrade\n",
      "  Building wheel for tensortrade (setup.py) ... \u001b[?25ldone\n",
      "\u001b[?25h  Created wheel for tensortrade: filename=tensortrade-0.0.2rc0-cp37-none-any.whl size=64953 sha256=8ec2bedbf05c05725cca83235fe01422ae8b7ef044b8f943e27ad4649abb4064\n",
      "  Stored in directory: /Users/qinghuan/Library/Caches/pip/wheels/7d/ae/9a/3f8d81ebc279fe3b6717dc53d04dbf9aeb56d4bddbfac4cef7\n",
      "Successfully built tensortrade\n",
      "Installing collected packages: tensortrade\n",
      "  Found existing installation: tensortrade 0.0.2rc0\n",
      "    Uninstalling tensortrade-0.0.2rc0:\n",
      "      Successfully uninstalled tensortrade-0.0.2rc0\n",
      "Successfully installed tensortrade-0.0.2rc0\n"
     ]
    }
   ],
   "source": [
    "!pip install .. -U"
   ]
  },
  {
   "cell_type": "code",
   "execution_count": 3,
   "metadata": {},
   "outputs": [],
   "source": [
    "import os\n",
    "import sys\n",
    "import warnings\n",
    "import numpy\n",
    "import ccxt\n",
    "import pandas as pd\n",
    "import numpy as np\n",
    "from time import time\n",
    "import math\n",
    "import cProfile as cp\n",
    "import matplotlib.pyplot as plt\n",
    "\n",
    "from gym.spaces import Space, Box\n",
    "\n",
    "config = './neat.config'\n",
    "\n",
    "def warn(*args, **kwargs):\n",
    "    pass\n",
    "\n",
    "warnings.warn = warn\n",
    "warnings.simplefilter(action='ignore', category=FutureWarning)\n",
    "numpy.seterr(divide = 'ignore') \n",
    "\n",
    "sys.path.append(os.path.dirname(os.path.abspath('')))\n",
    "sys.path.append(os.path.abspath('')+\"\\\\tensortrade\")\n"
   ]
  },
  {
   "cell_type": "markdown",
   "metadata": {},
   "source": [
    "**Load Data**"
   ]
  },
  {
   "cell_type": "code",
   "execution_count": 4,
   "metadata": {},
   "outputs": [
    {
     "name": "stdout",
     "output_type": "stream",
     "text": [
      "Friend Shape (180236, 12)\n",
      "train shape (26279, 12)\n",
      "test shape (17520, 12)\n",
      "columns Index(['open', 'high', 'low', 'close', 'volume', 'momentum_rsi', 'adx',\n",
      "       'adx_long', 'adx_pos', 'adx_neg', 'trend_ema_fast', 'trend_ema_slow'],\n",
      "      dtype='object')\n"
     ]
    }
   ],
   "source": [
    "\n",
    "data_file ='./data/processed/binance/btc_usdt_1h.csv' \n",
    "df = pd.read_csv(data_file, index_col=[0])\n",
    "\n",
    "\n",
    "# number of days we want to pull from the dataframe \n",
    "days_of_data = 365\n",
    "\n",
    "# number of data frames (our DF is in 1h timesteps)\n",
    "frames = days_of_data * 24 * 5\n",
    "# frames = len(df)\n",
    "train_test_percentage = 0.4\n",
    "\n",
    "x_train = int(frames * (1 - train_test_percentage))\n",
    "x_test = int(frames - x_train)\n",
    "\n",
    "df_train = df[-frames:(-x_test - 1)]\n",
    "df_test = df[-x_test:]\n",
    "print(\"Friend Shape\", df.shape)\n",
    "print('train shape', df_train.shape)\n",
    "print('test shape', df_test.shape)\n",
    "print('columns', df.columns)"
   ]
  },
  {
   "cell_type": "markdown",
   "metadata": {},
   "source": [
    "**Train against training data**"
   ]
  },
  {
   "cell_type": "code",
   "execution_count": 5,
   "metadata": {
    "scrolled": false
   },
   "outputs": [
    {
     "name": "stdout",
     "output_type": "stream",
     "text": [
      "fin imports\n",
      "fin strats\n",
      "fin exchange\n",
      "fin environment\n",
      "\n",
      "Running through  288  steps\n",
      "\n",
      " ****** Running generation 0 ****** \n",
      "\n",
      "---------------------------\n",
      "Genome ID:  1\n",
      "Rewards: 8.65680723282634\n",
      "Balance: 10000.0\n",
      "Net Worth: 10000.0\n",
      "Steps Completed 288\n"
     ]
    },
    {
     "ename": "AttributeError",
     "evalue": "'DiscreteActionStrategy' object has no attribute '_get_trade_type'",
     "output_type": "error",
     "traceback": [
      "\u001b[0;31m---------------------------------------------------------------------------\u001b[0m",
      "\u001b[0;31mAttributeError\u001b[0m                            Traceback (most recent call last)",
      "\u001b[0;32m<ipython-input-5-99057dcda6e3>\u001b[0m in \u001b[0;36m<module>\u001b[0;34m\u001b[0m\n\u001b[1;32m     48\u001b[0m \u001b[0mprint\u001b[0m\u001b[0;34m(\u001b[0m\u001b[0;34m\"Running through \"\u001b[0m\u001b[0;34m,\u001b[0m \u001b[0mstrategy\u001b[0m\u001b[0;34m.\u001b[0m\u001b[0m_data_frame_window\u001b[0m\u001b[0;34m,\u001b[0m \u001b[0;34m' steps'\u001b[0m\u001b[0;34m)\u001b[0m\u001b[0;34m\u001b[0m\u001b[0;34m\u001b[0m\u001b[0m\n\u001b[1;32m     49\u001b[0m \u001b[0;31m# cp.run(\"performance, winner, stats = strategy.run(generations=20)\", 'evolution_stats')\u001b[0m\u001b[0;34m\u001b[0m\u001b[0;34m\u001b[0m\u001b[0;34m\u001b[0m\u001b[0m\n\u001b[0;32m---> 50\u001b[0;31m \u001b[0mperformance\u001b[0m\u001b[0;34m,\u001b[0m \u001b[0mwinner\u001b[0m\u001b[0;34m,\u001b[0m \u001b[0mstats\u001b[0m \u001b[0;34m=\u001b[0m \u001b[0mstrategy\u001b[0m\u001b[0;34m.\u001b[0m\u001b[0mrun\u001b[0m\u001b[0;34m(\u001b[0m\u001b[0mgenerations\u001b[0m\u001b[0;34m=\u001b[0m\u001b[0;36m200\u001b[0m\u001b[0;34m)\u001b[0m\u001b[0;34m\u001b[0m\u001b[0;34m\u001b[0m\u001b[0m\n\u001b[0m",
      "\u001b[0;32m/usr/local/lib/python3.7/site-packages/tensortrade/strategies/neat_trading_strategy.py\u001b[0m in \u001b[0;36mrun\u001b[0;34m(self, generations, testing, episode_callback)\u001b[0m\n\u001b[1;32m    326\u001b[0m         \u001b[0;31m# pe = neat.ParallelEvaluator(10, self._threaded_eval)\u001b[0m\u001b[0;34m\u001b[0m\u001b[0;34m\u001b[0m\u001b[0;34m\u001b[0m\u001b[0m\n\u001b[1;32m    327\u001b[0m         \u001b[0;31m# winner = self._pop.run(pe.evaluate, generations)\u001b[0m\u001b[0;34m\u001b[0m\u001b[0;34m\u001b[0m\u001b[0;34m\u001b[0m\u001b[0m\n\u001b[0;32m--> 328\u001b[0;31m         \u001b[0mwinner\u001b[0m \u001b[0;34m=\u001b[0m \u001b[0mself\u001b[0m\u001b[0;34m.\u001b[0m\u001b[0m_pop\u001b[0m\u001b[0;34m.\u001b[0m\u001b[0mrun\u001b[0m\u001b[0;34m(\u001b[0m\u001b[0mself\u001b[0m\u001b[0;34m.\u001b[0m\u001b[0m_eval_population\u001b[0m\u001b[0;34m,\u001b[0m \u001b[0mgenerations\u001b[0m\u001b[0;34m)\u001b[0m\u001b[0;34m\u001b[0m\u001b[0;34m\u001b[0m\u001b[0m\n\u001b[0m\u001b[1;32m    329\u001b[0m \u001b[0;34m\u001b[0m\u001b[0m\n\u001b[1;32m    330\u001b[0m         \u001b[0;31m# Display the winning genome.\u001b[0m\u001b[0;34m\u001b[0m\u001b[0;34m\u001b[0m\u001b[0;34m\u001b[0m\u001b[0m\n",
      "\u001b[0;32m/usr/local/lib/python3.7/site-packages/neat/population.py\u001b[0m in \u001b[0;36mrun\u001b[0;34m(self, fitness_function, n)\u001b[0m\n\u001b[1;32m     87\u001b[0m \u001b[0;34m\u001b[0m\u001b[0m\n\u001b[1;32m     88\u001b[0m             \u001b[0;31m# Evaluate all genomes using the user-provided function.\u001b[0m\u001b[0;34m\u001b[0m\u001b[0;34m\u001b[0m\u001b[0;34m\u001b[0m\u001b[0m\n\u001b[0;32m---> 89\u001b[0;31m             \u001b[0mfitness_function\u001b[0m\u001b[0;34m(\u001b[0m\u001b[0mlist\u001b[0m\u001b[0;34m(\u001b[0m\u001b[0miteritems\u001b[0m\u001b[0;34m(\u001b[0m\u001b[0mself\u001b[0m\u001b[0;34m.\u001b[0m\u001b[0mpopulation\u001b[0m\u001b[0;34m)\u001b[0m\u001b[0;34m)\u001b[0m\u001b[0;34m,\u001b[0m \u001b[0mself\u001b[0m\u001b[0;34m.\u001b[0m\u001b[0mconfig\u001b[0m\u001b[0;34m)\u001b[0m\u001b[0;34m\u001b[0m\u001b[0;34m\u001b[0m\u001b[0m\n\u001b[0m\u001b[1;32m     90\u001b[0m \u001b[0;34m\u001b[0m\u001b[0m\n\u001b[1;32m     91\u001b[0m             \u001b[0;31m# Gather and report statistics.\u001b[0m\u001b[0;34m\u001b[0m\u001b[0;34m\u001b[0m\u001b[0;34m\u001b[0m\u001b[0m\n",
      "\u001b[0;32m/usr/local/lib/python3.7/site-packages/tensortrade/strategies/neat_trading_strategy.py\u001b[0m in \u001b[0;36m_eval_population\u001b[0;34m(self, genomes, config)\u001b[0m\n\u001b[1;32m    249\u001b[0m             \u001b[0mself\u001b[0m\u001b[0;34m.\u001b[0m\u001b[0menvironment\u001b[0m\u001b[0;34m.\u001b[0m\u001b[0m_current_step\u001b[0m \u001b[0;34m=\u001b[0m \u001b[0mself\u001b[0m\u001b[0;34m.\u001b[0m\u001b[0m_data_frame_start_tick\u001b[0m\u001b[0;34m\u001b[0m\u001b[0;34m\u001b[0m\u001b[0m\n\u001b[1;32m    250\u001b[0m \u001b[0;34m\u001b[0m\u001b[0m\n\u001b[0;32m--> 251\u001b[0;31m             \u001b[0mgenome\u001b[0m\u001b[0;34m.\u001b[0m\u001b[0mfitness\u001b[0m \u001b[0;34m=\u001b[0m \u001b[0mself\u001b[0m\u001b[0;34m.\u001b[0m\u001b[0meval_genome\u001b[0m\u001b[0;34m(\u001b[0m\u001b[0mgenome\u001b[0m\u001b[0;34m,\u001b[0m \u001b[0mconfig\u001b[0m\u001b[0;34m)\u001b[0m\u001b[0;34m\u001b[0m\u001b[0;34m\u001b[0m\u001b[0m\n\u001b[0m\u001b[1;32m    252\u001b[0m \u001b[0;34m\u001b[0m\u001b[0m\n\u001b[1;32m    253\u001b[0m         \u001b[0mclear_output\u001b[0m\u001b[0;34m(\u001b[0m\u001b[0;34m)\u001b[0m\u001b[0;34m\u001b[0m\u001b[0;34m\u001b[0m\u001b[0m\n",
      "\u001b[0;32m/usr/local/lib/python3.7/site-packages/tensortrade/strategies/neat_trading_strategy.py\u001b[0m in \u001b[0;36meval_genome\u001b[0;34m(self, genome, config)\u001b[0m\n\u001b[1;32m    318\u001b[0m         \u001b[0;31m# ballance our reward by how much profit we've made in our trading session.\u001b[0m\u001b[0;34m\u001b[0m\u001b[0;34m\u001b[0m\u001b[0;34m\u001b[0m\u001b[0m\n\u001b[1;32m    319\u001b[0m \u001b[0;34m\u001b[0m\u001b[0m\n\u001b[0;32m--> 320\u001b[0;31m         \u001b[0mself\u001b[0m\u001b[0;34m.\u001b[0m\u001b[0m_report_genome_evaluation\u001b[0m\u001b[0;34m(\u001b[0m\u001b[0mgenome\u001b[0m\u001b[0;34m)\u001b[0m\u001b[0;34m\u001b[0m\u001b[0;34m\u001b[0m\u001b[0m\n\u001b[0m\u001b[1;32m    321\u001b[0m         \u001b[0;32mreturn\u001b[0m \u001b[0mfitness\u001b[0m\u001b[0;34m\u001b[0m\u001b[0;34m\u001b[0m\u001b[0m\n\u001b[1;32m    322\u001b[0m \u001b[0;34m\u001b[0m\u001b[0m\n",
      "\u001b[0;32m/usr/local/lib/python3.7/site-packages/tensortrade/strategies/neat_trading_strategy.py\u001b[0m in \u001b[0;36m_report_genome_evaluation\u001b[0;34m(self, genome)\u001b[0m\n\u001b[1;32m    209\u001b[0m             \u001b[0mactions\u001b[0m \u001b[0;34m=\u001b[0m \u001b[0mdefaultdict\u001b[0m\u001b[0;34m(\u001b[0m\u001b[0mint\u001b[0m\u001b[0;34m)\u001b[0m\u001b[0;34m\u001b[0m\u001b[0;34m\u001b[0m\u001b[0m\n\u001b[1;32m    210\u001b[0m             \u001b[0;32mfor\u001b[0m \u001b[0maction\u001b[0m\u001b[0;34m,\u001b[0m \u001b[0mcount\u001b[0m \u001b[0;32min\u001b[0m \u001b[0mCounter\u001b[0m\u001b[0;34m(\u001b[0m\u001b[0mp\u001b[0m\u001b[0;34m[\u001b[0m\u001b[0;34m'actions'\u001b[0m\u001b[0;34m]\u001b[0m\u001b[0;34m)\u001b[0m\u001b[0;34m.\u001b[0m\u001b[0mitems\u001b[0m\u001b[0;34m(\u001b[0m\u001b[0;34m)\u001b[0m\u001b[0;34m:\u001b[0m\u001b[0;34m\u001b[0m\u001b[0;34m\u001b[0m\u001b[0m\n\u001b[0;32m--> 211\u001b[0;31m                     \u001b[0mactions\u001b[0m\u001b[0;34m[\u001b[0m\u001b[0mself\u001b[0m\u001b[0;34m.\u001b[0m\u001b[0menvironment\u001b[0m\u001b[0;34m.\u001b[0m\u001b[0maction_strategy\u001b[0m\u001b[0;34m.\u001b[0m\u001b[0m_get_trade_type\u001b[0m\u001b[0;34m(\u001b[0m\u001b[0maction\u001b[0m\u001b[0;34m)\u001b[0m\u001b[0;34m.\u001b[0m\u001b[0mname\u001b[0m\u001b[0;34m]\u001b[0m \u001b[0;34m=\u001b[0m \u001b[0mcount\u001b[0m\u001b[0;34m\u001b[0m\u001b[0;34m\u001b[0m\u001b[0m\n\u001b[0m\u001b[1;32m    212\u001b[0m \u001b[0;34m\u001b[0m\u001b[0m\n\u001b[1;32m    213\u001b[0m             \u001b[0mprint\u001b[0m\u001b[0;34m(\u001b[0m\u001b[0;34m'Most common action'\u001b[0m\u001b[0;34m,\u001b[0m \u001b[0mactions\u001b[0m\u001b[0;34m.\u001b[0m\u001b[0mitems\u001b[0m\u001b[0;34m(\u001b[0m\u001b[0;34m)\u001b[0m\u001b[0;34m)\u001b[0m\u001b[0;34m\u001b[0m\u001b[0;34m\u001b[0m\u001b[0m\n",
      "\u001b[0;31mAttributeError\u001b[0m: 'DiscreteActionStrategy' object has no attribute '_get_trade_type'"
     ]
    }
   ],
   "source": [
    "import tensortrade\n",
    "from tensortrade.strategies import NeatTradingStrategy as TradingStrategy\n",
    "from tensortrade.rewards import NeatRewardStrategy as ProfitStrategy\n",
    "from tensortrade.actions import DiscreteActionStrategy as ActionStrategy\n",
    "from tensortrade.exchanges.simulated import SimulatedExchange as Exchange\n",
    "from tensortrade.features.scalers import MinMaxNormalizer\n",
    "from tensortrade.features import FeaturePipeline\n",
    "from tensortrade.environments import TradingEnvironment as Environment\n",
    "\n",
    "print('fin imports')\n",
    "normalize = MinMaxNormalizer(inplace=True)\n",
    "feature_pipeline = FeaturePipeline(steps=[normalize])\n",
    "\n",
    "reward_strategy = ProfitStrategy()\n",
    "action_strategy = ActionStrategy(n_actions=20)\n",
    "print('fin strats')\n",
    "\n",
    "exchange = Exchange(data_frame=df_train,\n",
    "                    pretransform = True,\n",
    "                    base_instrument='USDT', \n",
    "                    commission_percent=0.75,\n",
    "                    window_size=1,\n",
    "                    max_allowed_slippage_percent=3.0,\n",
    "                    min_order_amount=1E-4,\n",
    "                    min_trade_amount=1E-4,\n",
    "                    observation_columns = df_train.columns\n",
    "                   )\n",
    "print('fin exchange')\n",
    "\n",
    "environment = Environment(exchange=exchange,\n",
    "                                 action_strategy=action_strategy,\n",
    "                                 reward_strategy=reward_strategy,\n",
    "                                 feature_pipeline=feature_pipeline)\n",
    "print('fin environment')\n",
    "print('')\n",
    "\n",
    "segments_in_day = 288\n",
    "days = 1\n",
    "\n",
    "strategy = TradingStrategy(environment=environment, \n",
    "                           neat_config=config, \n",
    "                           watch_genome_evaluation=True,\n",
    "                           only_show_profitable=False,\n",
    "                           learn_to_trade_theshold=-10000,\n",
    "                           data_frame_window = segments_in_day * days\n",
    "                          )\n",
    "\n",
    "print(\"Running through \", strategy._data_frame_window, ' steps')\n",
    "# cp.run(\"performance, winner, stats = strategy.run(generations=20)\", 'evolution_stats')\n",
    "performance, winner, stats = strategy.run(generations=200)"
   ]
  },
  {
   "cell_type": "markdown",
   "metadata": {},
   "source": [
    "**Evaluate against full dataset**"
   ]
  },
  {
   "cell_type": "code",
   "execution_count": null,
   "metadata": {},
   "outputs": [],
   "source": [
    "exchange = Exchange(data_frame=df,\n",
    "                    should_pretransform_obs = True,\n",
    "                    base_instrument='USDT', \n",
    "                    timeframe='1h',\n",
    "                    dtype=np.float32,\n",
    "                    commission_percent=0.5,\n",
    "                    window_size=1,\n",
    "                    max_allowed_slippage_percent=3.0,\n",
    "                    min_order_amount=1E-4,\n",
    "                    min_trade_amount=1E-4\n",
    "                   )\n",
    "environment = Environment(exchange=exchange,\n",
    "                                 action_strategy=action_strategy,\n",
    "                                 reward_strategy=reward_strategy,\n",
    "                                 feature_pipeline=feature_pipeline)\n",
    "\n",
    "environment.reset()\n",
    "from neat_trading_strategy import NeatTradingStrategy as TradingStrategy\n",
    "\n",
    "strategy = TradingStrategy(environment=environment, watch_genome_evaluation=True, full_evaluation = True, neat_config=config)"
   ]
  },
  {
   "cell_type": "code",
   "execution_count": null,
   "metadata": {},
   "outputs": [],
   "source": [
    "strategy.eval_genome(winner)"
   ]
  },
  {
   "cell_type": "code",
   "execution_count": null,
   "metadata": {},
   "outputs": [],
   "source": [
    "print(environment.exchange.trades)\n",
    "environment.exchange.performance.net_worth.plot()"
   ]
  },
  {
   "cell_type": "code",
   "execution_count": null,
   "metadata": {},
   "outputs": [],
   "source": [
    "import visualize\n",
    "\n",
    "visualize.plot_stats(stats, ylog=False, view=True)\n"
   ]
  },
  {
   "cell_type": "code",
   "execution_count": null,
   "metadata": {},
   "outputs": [],
   "source": [
    "visualize.plot_species(stats, view=True)"
   ]
  },
  {
   "cell_type": "code",
   "execution_count": null,
   "metadata": {
    "scrolled": false
   },
   "outputs": [],
   "source": [
    "visualize.draw_net(strategy._config, winner, False, node_names=node_names)\n"
   ]
  },
  {
   "cell_type": "markdown",
   "metadata": {},
   "source": [
    "**Save Strategy**"
   ]
  },
  {
   "cell_type": "code",
   "execution_count": null,
   "metadata": {},
   "outputs": [],
   "source": [
    "columns = [\"Action\"]+list(exchange.data_frame.columns)\n",
    "\n",
    "nodes = list(range(len(columns)*-1,1))\n",
    "nodes.reverse()\n",
    "node_names = dict( zip(nodes, columns))\n",
    "print(node_names)"
   ]
  },
  {
   "cell_type": "code",
   "execution_count": null,
   "metadata": {},
   "outputs": [],
   "source": [
    "dir(winner.connections.keys)\n",
    "keys = list(winner.connections.values())\n",
    "\n",
    "keys[0].weight/5"
   ]
  },
  {
   "cell_type": "code",
   "execution_count": null,
   "metadata": {},
   "outputs": [],
   "source": []
  },
  {
   "cell_type": "code",
   "execution_count": null,
   "metadata": {},
   "outputs": [],
   "source": [
    "from tensortrade.trades import Trade, TradeType\n",
    "tt = TradeType(3)\n",
    "t = Trade(\"btc/usdt\",tt, 1, 100)\n",
    "t.price\n",
    "t.transact_price\n",
    "t.fset('transact_price') = 123"
   ]
  }
 ],
 "metadata": {
  "kernelspec": {
   "display_name": "Python 3",
   "language": "python",
   "name": "python3"
  },
  "language_info": {
   "codemirror_mode": {
    "name": "ipython",
    "version": 3
   },
   "file_extension": ".py",
   "mimetype": "text/x-python",
   "name": "python",
   "nbconvert_exporter": "python",
   "pygments_lexer": "ipython3",
   "version": "3.7.4"
  }
 },
 "nbformat": 4,
 "nbformat_minor": 4
}
